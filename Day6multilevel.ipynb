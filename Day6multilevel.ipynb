{
 "cells": [
  {
   "cell_type": "code",
   "execution_count": null,
   "metadata": {},
   "outputs": [],
   "source": []
  },
  {
   "cell_type": "markdown",
   "metadata": {},
   "source": [
    "inheritance\n",
    "* grandparent to parent to children\n"
   ]
  },
  {
   "cell_type": "code",
   "execution_count": 7,
   "metadata": {},
   "outputs": [
    {
     "name": "stdout",
     "output_type": "stream",
     "text": [
      "hi i am grandfather\n",
      "name is mohanlal\n",
      "age is  87\n",
      "hi i am father\n",
      "name is ramlal\n",
      "age is  67\n",
      "hi i am child\n",
      "name is  raju\n",
      "age is  34\n"
     ]
    }
   ],
   "source": [
    "class grandfather:\n",
    "    age=87\n",
    "    name=\"mohanlal\"\n",
    "\n",
    "    def hello(self):\n",
    "        print(\"hi i am grandfather\")\n",
    "        print(\"name is\",self.name)\n",
    "        print(\"age is \",self.age)\n",
    "class father(grandfather):  #grandfather class is inherited in the father class\n",
    "    a=67\n",
    "    n=\"ramlal\"\n",
    "    def hi(self):\n",
    "        self.hello()\n",
    "        print(\"hi i am father\")\n",
    "        print(\"name is\",self.n)\n",
    "        print(\"age is \",self.a)\n",
    "class children(father):  #father class is inherited in the children class\n",
    "    agec=34\n",
    "    namec=\"raju\"\n",
    "    def hey(self):\n",
    "        self.hi()\n",
    "\n",
    "        print(\"hi i am child\")\n",
    "        print(\"name is \",self.namec)\n",
    "        print(\"age is \",self.agec)\n",
    "a=children()\n",
    "a.hey()"
   ]
  },
  {
   "cell_type": "code",
   "execution_count": null,
   "metadata": {},
   "outputs": [],
   "source": []
  }
 ],
 "metadata": {
  "kernelspec": {
   "display_name": "Python 3",
   "language": "python",
   "name": "python3"
  },
  "language_info": {
   "codemirror_mode": {
    "name": "ipython",
    "version": 3
   },
   "file_extension": ".py",
   "mimetype": "text/x-python",
   "name": "python",
   "nbconvert_exporter": "python",
   "pygments_lexer": "ipython3",
   "version": "3.12.1"
  }
 },
 "nbformat": 4,
 "nbformat_minor": 2
}
