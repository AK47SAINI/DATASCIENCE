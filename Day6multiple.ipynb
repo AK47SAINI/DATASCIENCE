{
 "cells": [
  {
   "cell_type": "markdown",
   "metadata": {},
   "source": [
    "<h1> MULTIPLE INHERITANCE </h1>\n",
    "<h3> grandfather and father to children </h3>"
   ]
  },
  {
   "cell_type": "code",
   "execution_count": 8,
   "metadata": {},
   "outputs": [
    {
     "name": "stdout",
     "output_type": "stream",
     "text": [
      "hi i am grandfather\n",
      "name is mohanlal\n",
      "age is  87\n",
      "hi i am father\n",
      "name is ramlal\n",
      "age is  67\n",
      "hi i am child\n",
      "name is  raju\n",
      "age is  34\n"
     ]
    }
   ],
   "source": [
    "class grandfather:\n",
    "    age=87\n",
    "    name=\"mohanlal\"\n",
    "\n",
    "    def hello(self):\n",
    "        print(\"hi i am grandfather\")\n",
    "        print(\"name is\",self.name)\n",
    "        print(\"age is \",self.age)\n",
    "class father:  \n",
    "    a=67\n",
    "    n=\"ramlal\"\n",
    "    def hi(self):\n",
    "        \n",
    "        print(\"hi i am father\")\n",
    "        print(\"name is\",self.n)\n",
    "        print(\"age is \",self.a)\n",
    "class children(father,grandfather):  #father and grandfather class is inherited in the children class\n",
    "    agec=34\n",
    "    namec=\"raju\"\n",
    "    def hey(self):\n",
    "        self.hello()\n",
    "        self.hi()\n",
    "\n",
    "        print(\"hi i am child\")\n",
    "        print(\"name is \",self.namec)\n",
    "        print(\"age is \",self.agec)\n",
    "a=children()\n",
    "a.hey()"
   ]
  },
  {
   "cell_type": "code",
   "execution_count": null,
   "metadata": {},
   "outputs": [],
   "source": []
  },
  {
   "cell_type": "markdown",
   "metadata": {},
   "source": [
    "<h1> Encapsulation </h1>\n",
    "<h4> *Public\n",
    "     *Private\n",
    "     *Protected </h4>"
   ]
  },
  {
   "cell_type": "markdown",
   "metadata": {},
   "source": [
    "<h1> Public👁️👁️</h1>"
   ]
  },
  {
   "cell_type": "code",
   "execution_count": 9,
   "metadata": {},
   "outputs": [
    {
     "name": "stdout",
     "output_type": "stream",
     "text": [
      "L.I.E.T\n",
      "ram\n",
      "aashish kumar saini\n"
     ]
    }
   ],
   "source": [
    "class College:\n",
    "    clgname=\"L.I.E.T\"\n",
    "    clgadd=\"Chikani,Alwar\"\n",
    "    clgrank=6\n",
    "\n",
    "\n",
    "\n",
    "class Faculty(College):\n",
    "    fname=\"ram\"\n",
    "    fsalary=30000\n",
    "    fpost=\"Cse department\"\n",
    "\n",
    "\n",
    "\n",
    "class Student(Faculty):\n",
    "    sname=\"aashish kumar saini\"\n",
    "    syear=\"2nd year\"\n",
    "    sroll=3\n",
    "a=Student()\n",
    "\n",
    "print(a.clgname)\n",
    "print(a.fname)\n",
    "print(a.sname)"
   ]
  },
  {
   "cell_type": "markdown",
   "metadata": {},
   "source": [
    "<h1> PRIVATE🤨🤨</h2>\n"
   ]
  },
  {
   "cell_type": "code",
   "execution_count": 10,
   "metadata": {},
   "outputs": [
    {
     "name": "stdout",
     "output_type": "stream",
     "text": [
      "L.I.E.T\n",
      "ram\n",
      "aashish kumar saini\n"
     ]
    }
   ],
   "source": [
    "class College:\n",
    "    __clgname=\"L.I.E.T\"  #private variable of the college class\n",
    "    clgadd=\"Chikani,Alwar\"\n",
    "    clgrank=6\n",
    "\n",
    "\n",
    "\n",
    "class Faculty(College):\n",
    "    fname=\"ram\"\n",
    "    fsalary=30000\n",
    "    fpost=\"Cse department\"\n",
    "\n",
    "\n",
    "\n",
    "class Student(Faculty):\n",
    "    sname=\"aashish kumar saini\"\n",
    "    syear=\"2nd year\"\n",
    "    sroll=3\n",
    "a=Student()\n",
    "\n",
    "print(a._College__clgname)\n",
    "print(a.fname)\n",
    "print(a.sname)"
   ]
  },
  {
   "cell_type": "markdown",
   "metadata": {},
   "source": [
    "<h1> PRINTING VALUES WIITH THE HELP OF THE CONSTRUCTOR OF THE DERIVED CLASS </h1>\n"
   ]
  },
  {
   "cell_type": "code",
   "execution_count": 13,
   "metadata": {},
   "outputs": [
    {
     "name": "stdout",
     "output_type": "stream",
     "text": [
      "College name L.I.E.T\n",
      "Faculty name Ram\n",
      "Student name Aashish kumar saini\n"
     ]
    }
   ],
   "source": [
    "class College:\n",
    "    \n",
    "        \n",
    "    clgname=\"L.I.E.T\"  #private variable of the college class\n",
    "    clgadd=\"Chikani,Alwar\"\n",
    "    clgrank=6\n",
    "    \n",
    "\n",
    "\n",
    "\n",
    "\n",
    "\n",
    "class Faculty(College):\n",
    "    fname=\"Ram\"\n",
    "    fsalary=30000\n",
    "    fpost=\"Cse department\"\n",
    "\n",
    "\n",
    "\n",
    "class Student(Faculty):\n",
    "    sname=\"Aashish kumar saini\"\n",
    "    syear=\"2nd year\"\n",
    "    sroll=3\n",
    "\n",
    "    def __init__(self):   #constructor of the Student class\n",
    "        self.display()  #calling of the display() from the constructor of the Student class\n",
    "    def display(self):\n",
    "        print(\"College name\",self.clgname)\n",
    "        print(\"Faculty name\",self.fname)\n",
    "        print(\"Student name\",self.sname)\n",
    "\n",
    "a=Student()\n",
    "\n",
    "\n"
   ]
  },
  {
   "cell_type": "markdown",
   "metadata": {},
   "source": [
    "<h1> Protected </h1>\n"
   ]
  },
  {
   "cell_type": "code",
   "execution_count": 20,
   "metadata": {},
   "outputs": [
    {
     "name": "stdout",
     "output_type": "stream",
     "text": [
      "Ram\n"
     ]
    }
   ],
   "source": [
    "class College:\n",
    "    \n",
    "        \n",
    "    _clgname=\"L.I.E.T\"  \n",
    "    clgadd=\"Chikani,Alwar\"\n",
    "    clgrank=6\n",
    "    \n",
    "\n",
    "\n",
    "\n",
    "\n",
    "\n",
    "class Faculty(College):\n",
    "    _fname=\"Ram\" #protected variable of the Faculty class \n",
    "    fsalary=30000\n",
    "    fpost=\"Cse department\"\n",
    "\n",
    "\n",
    "\n",
    "class Student(Faculty):\n",
    "    sname=\"Aashish kumar saini\"\n",
    "    syear=\"2nd year\"\n",
    "    sroll=3\n",
    "\n",
    "\n",
    "a=Student()\n",
    "print(Faculty._fname)\n",
    "#print(a._fname) this function gives error because it is proteced class variable which can be access \n",
    "#in inside of the class methods \n",
    "\n",
    "\n"
   ]
  },
  {
   "cell_type": "markdown",
   "metadata": {},
   "source": [
    "<h1> polymorphism </h1>\n"
   ]
  },
  {
   "cell_type": "code",
   "execution_count": 22,
   "metadata": {},
   "outputs": [
    {
     "name": "stdout",
     "output_type": "stream",
     "text": [
      "hello\n",
      "10\n",
      "value of a is  10\n",
      "area of the square is 4\n",
      "area of the rectangle is 20\n"
     ]
    }
   ],
   "source": [
    "#print function as polymorphismj\n",
    "a=10\n",
    "print(\"hello\") #print string\n",
    "print(a) #prints the value of a\n",
    "print(\"value of a is \",a)  #prints the string and as well as value of a\n",
    "\n",
    "def area(a,b=None):  #polymorphism of the userdefined function by unique no of the arguments \n",
    "    #when it is called\n",
    "\n",
    "    if(b==None):\n",
    "        return a*a\n",
    "    \n",
    "    else:\n",
    "        return a*b\n",
    "\n",
    "print(\"area of the square is\",area(2))\n",
    "print(\"area of the rectangle is\",area(4,5))"
   ]
  },
  {
   "cell_type": "markdown",
   "metadata": {},
   "source": [
    "<h1> abstraction </h1>\n"
   ]
  },
  {
   "cell_type": "code",
   "execution_count": 24,
   "metadata": {},
   "outputs": [
    {
     "name": "stdout",
     "output_type": "stream",
     "text": [
      "3\n",
      "3\n"
     ]
    }
   ],
   "source": [
    "print()"
   ]
  }
 ],
 "metadata": {
  "kernelspec": {
   "display_name": "Python 3",
   "language": "python",
   "name": "python3"
  },
  "language_info": {
   "codemirror_mode": {
    "name": "ipython",
    "version": 3
   },
   "file_extension": ".py",
   "mimetype": "text/x-python",
   "name": "python",
   "nbconvert_exporter": "python",
   "pygments_lexer": "ipython3",
   "version": "3.12.1"
  }
 },
 "nbformat": 4,
 "nbformat_minor": 2
}
