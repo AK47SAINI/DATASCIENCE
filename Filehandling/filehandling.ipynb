{
 "cells": [
  {
   "cell_type": "markdown",
   "metadata": {},
   "source": [
    "<h1> To printing the whole file </h1>"
   ]
  },
  {
   "cell_type": "code",
   "execution_count": null,
   "metadata": {},
   "outputs": [],
   "source": [
    "  #day 7  \n",
    "f=open('a.txt','r')  #we can also open the file as \" with open('a.txt','r') as f:\"\n",
    "print(f.read())"
   ]
  },
  {
   "cell_type": "code",
   "execution_count": 17,
   "metadata": {},
   "outputs": [
    {
     "name": "stdout",
     "output_type": "stream",
     "text": [
      "hello i am aashish \n",
      "i live in alwar\n"
     ]
    }
   ],
   "source": [
    "# To open a file in read mode\n",
    "f=open('a.txt','r')\n",
    " #read the whole file at a time  ,we can pass number of characters as argument in read()\n",
    "#f.readline() to read the file line by line \n",
    "\n",
    "for i in f.read():    \n",
    "    print(i,end=\"\")\n",
    "f.close()\n"
   ]
  },
  {
   "cell_type": "markdown",
   "metadata": {},
   "source": [
    "<h1>To read the file using readline() </h1>"
   ]
  },
  {
   "cell_type": "code",
   "execution_count": 18,
   "metadata": {},
   "outputs": [
    {
     "name": "stdout",
     "output_type": "stream",
     "text": [
      "hello i am aashish \n",
      "\n",
      "i live in alwar\n",
      "\n"
     ]
    }
   ],
   "source": [
    "f=open('a.txt','r')\n",
    "print(f.readline()) #prints the first line\n",
    "print(f.readline())  #prints the next line\n",
    "f.close()"
   ]
  },
  {
   "cell_type": "markdown",
   "metadata": {},
   "source": [
    "<h1> To open a file in the write mode </h1>"
   ]
  },
  {
   "cell_type": "code",
   "execution_count": 1,
   "metadata": {},
   "outputs": [
    {
     "name": "stdout",
     "output_type": "stream",
     "text": [
      "hello everyone my name is aashish kumar saini\n"
     ]
    }
   ],
   "source": [
    "f=open('a.txt','w')\n",
    "\n",
    "f.write(\"hello everyone my name is aashish kumar saini\")\n",
    "f.close()\n",
    "f=open(\"a.txt\",'r')\n",
    "print(f.read())"
   ]
  },
  {
   "cell_type": "markdown",
   "metadata": {},
   "source": [
    "<h1> Append mode</h1>"
   ]
  },
  {
   "cell_type": "code",
   "execution_count": 25,
   "metadata": {},
   "outputs": [
    {
     "name": "stdout",
     "output_type": "stream",
     "text": [
      "my name is aashishi am from alwar\n"
     ]
    }
   ],
   "source": [
    "f=open('aa.txt','a')\n",
    "f.write(\"my name is aashish\")\n",
    "\n",
    "f.write(\"i am from alwar\")\n",
    "\n",
    "f.close()\n",
    "with open('aa.txt','r') as f:\n",
    "    print(f.read())\n",
    "    f.close()"
   ]
  },
  {
   "cell_type": "code",
   "execution_count": null,
   "metadata": {},
   "outputs": [],
   "source": []
  }
 ],
 "metadata": {
  "kernelspec": {
   "display_name": "Python 3",
   "language": "python",
   "name": "python3"
  },
  "language_info": {
   "codemirror_mode": {
    "name": "ipython",
    "version": 3
   },
   "file_extension": ".py",
   "mimetype": "text/x-python",
   "name": "python",
   "nbconvert_exporter": "python",
   "pygments_lexer": "ipython3",
   "version": "3.12.1"
  }
 },
 "nbformat": 4,
 "nbformat_minor": 2
}
