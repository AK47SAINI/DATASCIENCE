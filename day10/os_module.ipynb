{
 "cells": [
  {
   "cell_type": "markdown",
   "metadata": {},
   "source": [
    "## OS Module"
   ]
  },
  {
   "cell_type": "code",
   "execution_count": 1,
   "metadata": {},
   "outputs": [],
   "source": [
    "import os"
   ]
  },
  {
   "cell_type": "code",
   "execution_count": 2,
   "metadata": {},
   "outputs": [
    {
     "data": {
      "text/plain": [
       "'nt'"
      ]
     },
     "execution_count": 2,
     "metadata": {},
     "output_type": "execute_result"
    }
   ],
   "source": [
    "os.name             #it returns the os name"
   ]
  },
  {
   "cell_type": "code",
   "execution_count": 4,
   "metadata": {},
   "outputs": [
    {
     "data": {
      "text/plain": [
       "'c:\\\\Users\\\\Lenovo\\\\OneDrive\\\\Desktop\\\\vspython'"
      ]
     },
     "execution_count": 4,
     "metadata": {},
     "output_type": "execute_result"
    }
   ],
   "source": [
    "os.getcwd()             #it gives the path of current directory."
   ]
  },
  {
   "cell_type": "code",
   "execution_count": 5,
   "metadata": {},
   "outputs": [],
   "source": [
    "os.chdir(\"..\")          # used to change directry"
   ]
  },
  {
   "cell_type": "code",
   "execution_count": 6,
   "metadata": {},
   "outputs": [
    {
     "data": {
      "text/plain": [
       "'c:\\\\Users\\\\Lenovo\\\\OneDrive\\\\Desktop'"
      ]
     },
     "execution_count": 6,
     "metadata": {},
     "output_type": "execute_result"
    }
   ],
   "source": [
    "os.getcwd()             # return changed directory"
   ]
  },
  {
   "cell_type": "code",
   "execution_count": 9,
   "metadata": {},
   "outputs": [
    {
     "data": {
      "text/plain": [
       "['amazon logo white.png',\n",
       " 'AnyDesk.exe',\n",
       " 'CSS Notes one shot.pdf',\n",
       " 'Data Science syllabus.pdf',\n",
       " 'desktop.ini',\n",
       " 'divya ptt.pptx',\n",
       " 'Firefox.lnk',\n",
       " \"GitHub- Let's build from here · GitHubGitHubhttps---github.com.url\",\n",
       " 'Google Chrome.lnk',\n",
       " 'hello python',\n",
       " 'html one shot notes.pdf',\n",
       " 'https---harsh-sharma.netlify.app.url',\n",
       " 'New folder (2)',\n",
       " 'New folder (4)',\n",
       " 'python',\n",
       " 'reportpython.docx',\n",
       " 'Visual Studio Code.lnk',\n",
       " 'vspython',\n",
       " 'ZoomInstallerFull.exe']"
      ]
     },
     "execution_count": 9,
     "metadata": {},
     "output_type": "execute_result"
    }
   ],
   "source": [
    "os.listdir('.')         #return list of directory"
   ]
  },
  {
   "cell_type": "code",
   "execution_count": 10,
   "metadata": {},
   "outputs": [],
   "source": [
    "os.mkdir('c:\\\\Users\\\\Lenovo\\\\OneDrive\\\\Desktop\\\\divya') #used to make directory.\n",
    "                                                        # divya is new file name"
   ]
  },
  {
   "cell_type": "code",
   "execution_count": 12,
   "metadata": {},
   "outputs": [
    {
     "data": {
      "text/plain": [
       "['amazon logo white.png',\n",
       " 'AnyDesk.exe',\n",
       " 'CSS Notes one shot.pdf',\n",
       " 'Data Science syllabus.pdf',\n",
       " 'desktop.ini',\n",
       " 'divya',\n",
       " 'divya ptt.pptx',\n",
       " 'Firefox.lnk',\n",
       " \"GitHub- Let's build from here · GitHubGitHubhttps---github.com.url\",\n",
       " 'Google Chrome.lnk',\n",
       " 'hello python',\n",
       " 'html one shot notes.pdf',\n",
       " 'https---harsh-sharma.netlify.app.url',\n",
       " 'New folder (2)',\n",
       " 'New folder (4)',\n",
       " 'python',\n",
       " 'reportpython.docx',\n",
       " 'Visual Studio Code.lnk',\n",
       " 'vspython',\n",
       " 'ZoomInstallerFull.exe']"
      ]
     },
     "execution_count": 12,
     "metadata": {},
     "output_type": "execute_result"
    }
   ],
   "source": [
    "os.listdir('.')"
   ]
  },
  {
   "cell_type": "code",
   "execution_count": 13,
   "metadata": {},
   "outputs": [],
   "source": [
    "os.rename(\"divya\",\"RAM\")        # used to rename the file"
   ]
  },
  {
   "cell_type": "code",
   "execution_count": 14,
   "metadata": {},
   "outputs": [
    {
     "data": {
      "text/plain": [
       "['amazon logo white.png',\n",
       " 'AnyDesk.exe',\n",
       " 'CSS Notes one shot.pdf',\n",
       " 'Data Science syllabus.pdf',\n",
       " 'desktop.ini',\n",
       " 'divya ptt.pptx',\n",
       " 'Firefox.lnk',\n",
       " \"GitHub- Let's build from here · GitHubGitHubhttps---github.com.url\",\n",
       " 'Google Chrome.lnk',\n",
       " 'hello python',\n",
       " 'html one shot notes.pdf',\n",
       " 'https---harsh-sharma.netlify.app.url',\n",
       " 'New folder (2)',\n",
       " 'New folder (4)',\n",
       " 'python',\n",
       " 'RAM',\n",
       " 'reportpython.docx',\n",
       " 'Visual Studio Code.lnk',\n",
       " 'vspython',\n",
       " 'ZoomInstallerFull.exe']"
      ]
     },
     "execution_count": 14,
     "metadata": {},
     "output_type": "execute_result"
    }
   ],
   "source": [
    "os.listdir()"
   ]
  },
  {
   "cell_type": "code",
   "execution_count": 16,
   "metadata": {},
   "outputs": [],
   "source": [
    "os.makedirs('c:\\\\Users\\\\Lenovo\\\\d\\\\OneDrive\\\\Desktop')      #helps to create folder in b/w path."
   ]
  },
  {
   "cell_type": "code",
   "execution_count": null,
   "metadata": {},
   "outputs": [],
   "source": []
  }
 ],
 "metadata": {
  "kernelspec": {
   "display_name": "Python 3",
   "language": "python",
   "name": "python3"
  },
  "language_info": {
   "codemirror_mode": {
    "name": "ipython",
    "version": 3
   },
   "file_extension": ".py",
   "mimetype": "text/x-python",
   "name": "python",
   "nbconvert_exporter": "python",
   "pygments_lexer": "ipython3",
   "version": "3.12.3"
  }
 },
 "nbformat": 4,
 "nbformat_minor": 2
}
