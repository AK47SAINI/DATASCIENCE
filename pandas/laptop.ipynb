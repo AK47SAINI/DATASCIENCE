{
 "cells": [
  {
   "cell_type": "markdown",
   "metadata": {},
   "source": [
    "<h1> Making a data frame from the dictionary </h1>\n"
   ]
  },
  {
   "cell_type": "code",
   "execution_count": null,
   "metadata": {},
   "outputs": [],
   "source": [
    "import pandas as pd\n",
    "dict={\"name\":[\"aashish\",\"sahil\",\"sachin\",\"manish\"],\n",
    "      \"age\":[21,22,22,21]}  #dicitionary\n",
    "print(\"This is our dictionary\")\n",
    "print(dict)\n",
    "data=pd.DataFrame(dict)   #conversion into the data frame \n",
    "print(\"This is our data set of the above dictionary\")\n",
    "print(data)\n",
    "print(data.info())\n",
    "print(data.describe())"
   ]
  },
  {
   "cell_type": "markdown",
   "metadata": {},
   "source": [
    "<h1> Making data from the csv file</h1>\n"
   ]
  },
  {
   "cell_type": "code",
   "execution_count": null,
   "metadata": {},
   "outputs": [],
   "source": [
    "import pandas as pd\n",
    "\n",
    "data=pd.read_csv(\"laptopPrice.csv\")\n",
    "print(data)\n"
   ]
  },
  {
   "cell_type": "markdown",
   "metadata": {},
   "source": [
    "<h1>for checking the null values and duplicate values in our data sets </h1>\n",
    "\n"
   ]
  },
  {
   "cell_type": "code",
   "execution_count": null,
   "metadata": {},
   "outputs": [],
   "source": [
    "import pandas as pd\n",
    "\n",
    "data=pd.read_csv(\"laptopPrice.csv\")\n",
    "print(\"the number of the null values in the data set\",data.isnull().sum())  #isnull() to check the null values in the data set\n",
    "print(\"\\n  Duplicates values\\n\",data.duplicated().sum())\n",
    "print(data.info())\n"
   ]
  },
  {
   "cell_type": "markdown",
   "metadata": {},
   "source": [
    "<h1> To find the unique values of the data sets </h1>"
   ]
  },
  {
   "cell_type": "code",
   "execution_count": null,
   "metadata": {},
   "outputs": [],
   "source": [
    "print(data['brand'].unique())  #it prints all the unique values of the brand column\n",
    "print(data['processor_brand'].unique())\n",
    "print(data['processor_name'].unique())\n",
    "print(data['Touchscreen'].unique())\n",
    "print(data['msoffice'].unique())\n",
    "apple=data[data['brand']==\"APPLE\"]  # hp=data[data['brand']==\"HP\"]\n",
    "                                    # print(hp[hp['Price']<=100000])\n",
    "apple[apple['Price']<=100000]\n",
    "\n"
   ]
  },
  {
   "cell_type": "code",
   "execution_count": 54,
   "metadata": {},
   "outputs": [
    {
     "name": "stdout",
     "output_type": "stream",
     "text": [
      "<bound method DataFrame.count of     brand processor_brand processor_name processor_gnrtn ram_gb ram_type  \\\n",
      "18     HP           Intel   Celeron Dual   Not Available   8 GB     DDR4   \n",
      "22     HP           Intel        Core i3             7th   4 GB     DDR4   \n",
      "23     HP           Intel        Core i5             7th   4 GB     DDR4   \n",
      "28     HP           Intel        Core i3            11th   8 GB     DDR4   \n",
      "57     HP           Intel        Core i3            11th   4 GB     DDR4   \n",
      "72     HP           Intel        Core i3            11th   4 GB     DDR4   \n",
      "75     HP           Intel        Core i3            11th   4 GB     DDR4   \n",
      "87     HP           Intel        Core i3            11th   8 GB     DDR4   \n",
      "88     HP           Intel        Core i3            11th   8 GB     DDR4   \n",
      "96     HP           Intel        Core i3            10th   8 GB     DDR4   \n",
      "97     HP           Intel        Core i3            11th   8 GB     DDR4   \n",
      "105    HP           Intel        Core i3            11th   8 GB     DDR4   \n",
      "106    HP           Intel        Core i3            11th   8 GB     DDR4   \n",
      "109    HP           Intel        Core i3            11th   8 GB     DDR4   \n",
      "114    HP           Intel        Core i3            11th   4 GB     DDR4   \n",
      "115    HP           Intel        Core i3            10th   4 GB     DDR4   \n",
      "118    HP           Intel        Core i3            11th   4 GB     DDR4   \n",
      "124    HP           Intel        Core i3            11th   4 GB     DDR4   \n",
      "135    HP           Intel        Core i3            11th   8 GB     DDR4   \n",
      "144    HP           Intel        Core i3            11th   4 GB     DDR4   \n",
      "145    HP           Intel        Core i3            11th   4 GB     DDR4   \n",
      "147    HP           Intel        Core i3            11th   4 GB     DDR4   \n",
      "149    HP           Intel        Core i3            10th   4 GB     DDR4   \n",
      "154    HP           Intel        Core i3            10th   4 GB     DDR4   \n",
      "158    HP           Intel        Core i3             7th   8 GB     DDR4   \n",
      "190    HP           Intel   Celeron Dual   Not Available   4 GB     DDR4   \n",
      "191    HP           Intel   Celeron Dual   Not Available   4 GB     DDR4   \n",
      "437    HP           Intel        Core i5             8th   8 GB     DDR4   \n",
      "438    HP           Intel        Core i5             7th   4 GB     DDR4   \n",
      "440    HP           Intel        Core i5            10th   8 GB     DDR4   \n",
      "626    HP           Intel   Pentium Quad   Not Available   8 GB     DDR4   \n",
      "\n",
      "        ssd      hdd       os  os_bit graphic_card_gb      weight  \\\n",
      "18   256 GB     0 GB  Windows  64-bit            0 GB  ThinNlight   \n",
      "22     0 GB  1024 GB  Windows  64-bit            0 GB      Casual   \n",
      "23     0 GB  1024 GB  Windows  32-bit            2 GB      Casual   \n",
      "28   256 GB     0 GB  Windows  64-bit            0 GB  ThinNlight   \n",
      "57   256 GB     0 GB  Windows  64-bit            0 GB  ThinNlight   \n",
      "72   256 GB     0 GB  Windows  64-bit            0 GB  ThinNlight   \n",
      "75   256 GB     0 GB  Windows  64-bit            0 GB  ThinNlight   \n",
      "87   512 GB     0 GB  Windows  64-bit            0 GB  ThinNlight   \n",
      "88   512 GB     0 GB  Windows  64-bit            0 GB  ThinNlight   \n",
      "96   512 GB     0 GB  Windows  64-bit            0 GB  ThinNlight   \n",
      "97   512 GB     0 GB  Windows  64-bit            0 GB  ThinNlight   \n",
      "105  512 GB     0 GB  Windows  64-bit            0 GB      Casual   \n",
      "106  512 GB     0 GB  Windows  64-bit            0 GB  ThinNlight   \n",
      "109  512 GB     0 GB  Windows  64-bit            0 GB      Casual   \n",
      "114  512 GB     0 GB  Windows  64-bit            0 GB  ThinNlight   \n",
      "115  512 GB     0 GB  Windows  32-bit            0 GB      Casual   \n",
      "118  512 GB     0 GB  Windows  64-bit            0 GB  ThinNlight   \n",
      "124  512 GB     0 GB  Windows  64-bit            0 GB  ThinNlight   \n",
      "135    0 GB  1024 GB  Windows  64-bit            0 GB  ThinNlight   \n",
      "144    0 GB  1024 GB  Windows  64-bit            0 GB  ThinNlight   \n",
      "145    0 GB  1024 GB  Windows  64-bit            0 GB  ThinNlight   \n",
      "147    0 GB  1024 GB  Windows  64-bit            0 GB  ThinNlight   \n",
      "149    0 GB  1024 GB  Windows  64-bit            0 GB  ThinNlight   \n",
      "154    0 GB  1024 GB  Windows  64-bit            0 GB  ThinNlight   \n",
      "158    0 GB  1024 GB  Windows  64-bit            2 GB      Casual   \n",
      "190    0 GB   512 GB  Windows  64-bit            0 GB      Casual   \n",
      "191    0 GB   512 GB  Windows  64-bit            0 GB      Casual   \n",
      "437    0 GB  1024 GB  Windows  64-bit            0 GB      Casual   \n",
      "438    0 GB  1024 GB  Windows  64-bit            0 GB      Casual   \n",
      "440    0 GB  1024 GB  Windows  32-bit            0 GB      Casual   \n",
      "626  256 GB     0 GB  Windows  64-bit            0 GB  ThinNlight   \n",
      "\n",
      "        warranty Touchscreen msoffice  Price   rating  Number of Ratings  \\\n",
      "18   No warranty          No       No  32490  4 stars                 58   \n",
      "22   No warranty          No       No  32955  4 stars                311   \n",
      "23   No warranty          No       No  46200  4 stars                 47   \n",
      "28        1 year          No      Yes  39990  4 stars                273   \n",
      "57        1 year          No      Yes  44900  4 stars               1029   \n",
      "72        1 year          No      Yes  42490  4 stars               5205   \n",
      "75        1 year          No      Yes  44376  4 stars               1090   \n",
      "87        1 year          No      Yes  42990  4 stars                158   \n",
      "88        1 year          No      Yes  42990  4 stars                681   \n",
      "96        1 year          No      Yes  42490  4 stars               1296   \n",
      "97        1 year          No      Yes  43970  4 stars                571   \n",
      "105       1 year          No       No  41250  4 stars                117   \n",
      "106  No warranty          No       No  44990  3 stars                  0   \n",
      "109  No warranty          No       No  45650  4 stars                 39   \n",
      "114       1 year          No      Yes  45490  4 stars                523   \n",
      "115  No warranty          No       No  38799  4 stars                 30   \n",
      "118       1 year          No      Yes  47990  4 stars               1605   \n",
      "124       1 year          No      Yes  48900  4 stars               1278   \n",
      "135       1 year          No      Yes  43690  4 stars               4999   \n",
      "144       1 year          No      Yes  39990  3 stars                324   \n",
      "145       1 year          No      Yes  41990  4 stars                 69   \n",
      "147       1 year          No       No  39790  3 stars                 40   \n",
      "149       1 year          No      Yes  36490  3 stars               1146   \n",
      "154       1 year          No      Yes  40750  4 stars               1096   \n",
      "158  No warranty          No       No  49279  4 stars                 38   \n",
      "190  No warranty          No       No  26470  3 stars                232   \n",
      "191  No warranty          No       No  27990  3 stars                596   \n",
      "437       1 year          No       No  46790  4 stars               3062   \n",
      "438       1 year          No       No  44599  4 stars                122   \n",
      "440       1 year          No      Yes  48790  3 stars                 11   \n",
      "626       1 year          No      Yes  32990  4 stars                 77   \n",
      "\n",
      "     Number of Reviews  \n",
      "18                   6  \n",
      "22                  27  \n",
      "23                   7  \n",
      "28                  30  \n",
      "57                 107  \n",
      "72                 561  \n",
      "75                  96  \n",
      "87                  18  \n",
      "88                  59  \n",
      "96                 126  \n",
      "97                  56  \n",
      "105                 11  \n",
      "106                  0  \n",
      "109                  4  \n",
      "114                 66  \n",
      "115                  1  \n",
      "118                215  \n",
      "124                135  \n",
      "135                490  \n",
      "144                 45  \n",
      "145                  5  \n",
      "147                  3  \n",
      "149                175  \n",
      "154                116  \n",
      "158                  3  \n",
      "190                 23  \n",
      "191                 65  \n",
      "437                325  \n",
      "438                 12  \n",
      "440                  1  \n",
      "626                  9  >\n"
     ]
    }
   ],
   "source": [
    "hp=data[data['brand']==\"HP\"]\n",
    "hpbrand=hp[hp['processor_brand']=='Intel']\n",
    "hp1=hpbrand[hpbrand['Price']<=50000]\n",
    "print(hp1.count)"
   ]
  }
 ],
 "metadata": {
  "kernelspec": {
   "display_name": "Python 3",
   "language": "python",
   "name": "python3"
  },
  "language_info": {
   "codemirror_mode": {
    "name": "ipython",
    "version": 3
   },
   "file_extension": ".py",
   "mimetype": "text/x-python",
   "name": "python",
   "nbconvert_exporter": "python",
   "pygments_lexer": "ipython3",
   "version": "3.12.1"
  }
 },
 "nbformat": 4,
 "nbformat_minor": 2
}
