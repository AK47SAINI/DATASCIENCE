{
 "cells": [
  {
   "cell_type": "code",
   "execution_count": 18,
   "metadata": {},
   "outputs": [
    {
     "name": "stdout",
     "output_type": "stream",
     "text": [
      "bike_name     0\n",
      "price         0\n",
      "city          0\n",
      "kms_driven    0\n",
      "owner         0\n",
      "age           0\n",
      "power         0\n",
      "brand         0\n",
      "dtype: int64\n",
      "25324\n",
      "['TVS' 'Royal Enfield' 'Triumph' 'Yamaha' 'Honda' 'Hero' 'Bajaj' 'Suzuki'\n",
      " 'Benelli' 'KTM' 'Mahindra' 'Kawasaki' 'Ducati' 'Hyosung'\n",
      " 'Harley-Davidson' 'Jawa' 'BMW' 'Indian' 'Rajdoot' 'LML' 'Yezdi' 'MV'\n",
      " 'Ideal']\n"
     ]
    },
    {
     "data": {
      "text/html": [
       "<div>\n",
       "<style scoped>\n",
       "    .dataframe tbody tr th:only-of-type {\n",
       "        vertical-align: middle;\n",
       "    }\n",
       "\n",
       "    .dataframe tbody tr th {\n",
       "        vertical-align: top;\n",
       "    }\n",
       "\n",
       "    .dataframe thead th {\n",
       "        text-align: right;\n",
       "    }\n",
       "</style>\n",
       "<table border=\"1\" class=\"dataframe\">\n",
       "  <thead>\n",
       "    <tr style=\"text-align: right;\">\n",
       "      <th></th>\n",
       "      <th>price</th>\n",
       "      <th>kms_driven</th>\n",
       "      <th>age</th>\n",
       "      <th>power</th>\n",
       "    </tr>\n",
       "  </thead>\n",
       "  <tbody>\n",
       "    <tr>\n",
       "      <th>count</th>\n",
       "      <td>794.000000</td>\n",
       "      <td>794.000000</td>\n",
       "      <td>794.000000</td>\n",
       "      <td>794.000000</td>\n",
       "    </tr>\n",
       "    <tr>\n",
       "      <th>mean</th>\n",
       "      <td>28016.448363</td>\n",
       "      <td>13471.259446</td>\n",
       "      <td>9.045340</td>\n",
       "      <td>166.863980</td>\n",
       "    </tr>\n",
       "    <tr>\n",
       "      <th>std</th>\n",
       "      <td>4594.196300</td>\n",
       "      <td>19089.696037</td>\n",
       "      <td>1.585864</td>\n",
       "      <td>27.125678</td>\n",
       "    </tr>\n",
       "    <tr>\n",
       "      <th>min</th>\n",
       "      <td>5800.000000</td>\n",
       "      <td>2342.000000</td>\n",
       "      <td>4.000000</td>\n",
       "      <td>100.000000</td>\n",
       "    </tr>\n",
       "    <tr>\n",
       "      <th>25%</th>\n",
       "      <td>30000.000000</td>\n",
       "      <td>6639.000000</td>\n",
       "      <td>9.000000</td>\n",
       "      <td>180.000000</td>\n",
       "    </tr>\n",
       "    <tr>\n",
       "      <th>50%</th>\n",
       "      <td>30000.000000</td>\n",
       "      <td>6639.000000</td>\n",
       "      <td>9.000000</td>\n",
       "      <td>180.000000</td>\n",
       "    </tr>\n",
       "    <tr>\n",
       "      <th>75%</th>\n",
       "      <td>30000.000000</td>\n",
       "      <td>6639.000000</td>\n",
       "      <td>9.000000</td>\n",
       "      <td>180.000000</td>\n",
       "    </tr>\n",
       "    <tr>\n",
       "      <th>max</th>\n",
       "      <td>30000.000000</td>\n",
       "      <td>266028.000000</td>\n",
       "      <td>18.000000</td>\n",
       "      <td>180.000000</td>\n",
       "    </tr>\n",
       "  </tbody>\n",
       "</table>\n",
       "</div>"
      ],
      "text/plain": [
       "              price     kms_driven         age       power\n",
       "count    794.000000     794.000000  794.000000  794.000000\n",
       "mean   28016.448363   13471.259446    9.045340  166.863980\n",
       "std     4594.196300   19089.696037    1.585864   27.125678\n",
       "min     5800.000000    2342.000000    4.000000  100.000000\n",
       "25%    30000.000000    6639.000000    9.000000  180.000000\n",
       "50%    30000.000000    6639.000000    9.000000  180.000000\n",
       "75%    30000.000000    6639.000000    9.000000  180.000000\n",
       "max    30000.000000  266028.000000   18.000000  180.000000"
      ]
     },
     "execution_count": 18,
     "metadata": {},
     "output_type": "execute_result"
    }
   ],
   "source": [
    "import pandas as pd\n",
    "import numpy as np\n",
    "\n",
    "data=pd.read_csv(\"Used_Bikes.csv\")\n",
    "# print(data.head())\n",
    "# print(data.head(10))\n",
    "# print(data.tail(20))\n",
    "price=data[data[\"price\"]<=50000]\n",
    "# print(price[price[\"brand\"]=='TVS'])\n",
    "print(data.isnull().sum())  #it prints the sum of number of null values of every column\n",
    "print(data.duplicated().sum())\n",
    "print(data[\"brand\"].unique())\n"
   ]
  },
  {
   "cell_type": "markdown",
   "metadata": {},
   "source": [
    "<h1>Bikes of the specific brand tvs </h1>"
   ]
  },
  {
   "cell_type": "code",
   "execution_count": 53,
   "metadata": {},
   "outputs": [
    {
     "name": "stdout",
     "output_type": "stream",
     "text": [
      "               price     kms_driven          age        power\n",
      "count    1247.000000    1247.000000  1247.000000  1247.000000\n",
      "mean    44299.146752   14717.836407     7.310345   170.994387\n",
      "std     32540.843696   18193.866096     2.928919    35.771333\n",
      "min      5800.000000     100.000000     1.000000   100.000000\n",
      "25%     30000.000000    6639.000000     5.000000   160.000000\n",
      "50%     30000.000000    6639.000000     9.000000   180.000000\n",
      "75%     50000.000000   18477.000000     9.000000   180.000000\n",
      "max    224000.000000  266028.000000    23.000000   310.000000\n"
     ]
    }
   ],
   "source": [
    "tvsbikes=data[data[\"brand\"]==\"TVS\"]\n",
    "tvsbikes[tvsbikes[\"price\"]<=30000].describe()\n",
    "print(tvsbikes.describe())\n"
   ]
  },
  {
   "cell_type": "markdown",
   "metadata": {},
   "source": []
  },
  {
   "cell_type": "code",
   "execution_count": 82,
   "metadata": {},
   "outputs": [
    {
     "name": "stdout",
     "output_type": "stream",
     "text": [
      "                        bike_name     price       city  kms_driven  \\\n",
      "479   Royal Enfield Classic 350cc  150000.0      Delhi      4000.0   \n",
      "5495  Royal Enfield Classic 350cc  150000.0       Kota      1947.0   \n",
      "6590  Royal Enfield Classic 350cc  130000.0  Ghaziabad     19249.0   \n",
      "6715  Royal Enfield Classic 350cc  130000.0  Ghaziabad     19249.0   \n",
      "\n",
      "            owner  age  power          brand  \n",
      "479   First Owner  2.0  350.0  Royal Enfield  \n",
      "5495  First Owner  2.0  350.0  Royal Enfield  \n",
      "6590  First Owner  2.0  350.0  Royal Enfield  \n",
      "6715  First Owner  2.0  350.0  Royal Enfield  \n"
     ]
    }
   ],
   "source": [
    "\n",
    "\n",
    "data=pd.read_csv(\"Used_Bikes.csv\")\n",
    "royal_enfield=data[data[\"brand\"]==\"Royal Enfield\"]\n",
    "rbike=royal_enfield[royal_enfield[\"bike_name\"]==\"Royal Enfield Classic 350cc\"]\n",
    "# print(rbike)\n",
    "price=rbike[rbike[\"price\"]>=100000]\n",
    "age=price[price['age']==2]\n",
    "print(age)\n",
    "# print(age[age[\"kms_driven\"]<=50000])\n",
    "\n",
    "\n",
    "# print(requiredkms[requiredkms['age']==2])"
   ]
  },
  {
   "cell_type": "markdown",
   "metadata": {},
   "source": [
    "new task\n"
   ]
  },
  {
   "cell_type": "code",
   "execution_count": 94,
   "metadata": {},
   "outputs": [
    {
     "name": "stdout",
     "output_type": "stream",
     "text": [
      "                                     bike_name     price   city  kms_driven  \\\n",
      "5195  Royal Enfield Classic Desert Storm 500cc  119000.0  Delhi     14735.0   \n",
      "5455  Royal Enfield Classic Desert Storm 500cc  119000.0  Delhi     14735.0   \n",
      "9241  Royal Enfield Classic Desert Storm 500cc  140000.0  Delhi      8500.0   \n",
      "\n",
      "            owner  age  power          brand  \n",
      "5195  First Owner  5.0  500.0  Royal Enfield  \n",
      "5455  First Owner  5.0  500.0  Royal Enfield  \n",
      "9241  First Owner  5.0  500.0  Royal Enfield  \n",
      "               price    kms_driven       age  power\n",
      "count       8.000000      8.000000  8.000000    8.0\n",
      "mean   113825.000000  11251.875000  6.125000  500.0\n",
      "std     13600.078781   5216.319815  1.125992    0.0\n",
      "min     98100.000000   3545.000000  5.000000  500.0\n",
      "25%    105825.000000   7625.000000  5.000000  500.0\n",
      "50%    114000.000000  11617.500000  6.000000  500.0\n",
      "75%    119000.000000  15301.250000  7.000000  500.0\n",
      "max    140000.000000  17000.000000  8.000000  500.0\n"
     ]
    }
   ],
   "source": [
    "\n",
    "\n",
    "bike=data[data[\"brand\"]==\"Royal Enfield\"]\n",
    "\n",
    "\n",
    "royal=bike[bike[\"bike_name\"]==\"Royal Enfield Classic Desert Storm 500cc\"]\n",
    "\n",
    "\n",
    "fowner=royal[royal['owner']==\"First Owner\"]\n",
    "\n",
    "city=fowner[fowner['city']=='Delhi']\n",
    "power=city[city[\"power\"]==500]\n",
    "\n",
    "print(power[power[\"age\"]<=5])\n",
    "\n",
    "print(power.describe())"
   ]
  },
  {
   "cell_type": "markdown",
   "metadata": {},
   "source": [
    "<h1> new task </h1>\n"
   ]
  },
  {
   "cell_type": "code",
   "execution_count": 116,
   "metadata": {},
   "outputs": [
    {
     "name": "stdout",
     "output_type": "stream",
     "text": [
      "bike_name     33\n",
      "price         33\n",
      "city          33\n",
      "kms_driven    33\n",
      "owner         33\n",
      "age           33\n",
      "power         33\n",
      "brand         33\n",
      "dtype: int64\n",
      "bike_name     16\n",
      "price         16\n",
      "city          16\n",
      "kms_driven    16\n",
      "owner         16\n",
      "age           16\n",
      "power         16\n",
      "brand         16\n",
      "dtype: int64\n",
      "               price    kms_driven        age       power\n",
      "count      16.000000     16.000000  16.000000   16.000000\n",
      "mean   180812.500000  17088.875000   5.187500  336.875000\n",
      "std    182447.880686   8560.625389   1.223043   82.600948\n",
      "min    110000.000000   4159.000000   4.000000  200.000000\n",
      "25%    119500.000000  11034.000000   4.000000  250.000000\n",
      "50%    132500.000000  15273.500000   5.000000  390.000000\n",
      "75%    150000.000000  23250.000000   6.250000  390.000000\n",
      "max    860000.000000  37000.000000   7.000000  390.000000\n",
      "               price    kms_driven        age       power\n",
      "count      33.000000     33.000000  33.000000   33.000000\n",
      "mean   134103.030303  16971.848485   6.606061  445.454545\n",
      "std     38833.003721   9826.810393   4.084570   76.865992\n",
      "min    105000.000000   1400.000000   4.000000  350.000000\n",
      "25%    115000.000000  13110.000000   5.000000  350.000000\n",
      "50%    121000.000000  15000.000000   6.000000  500.000000\n",
      "75%    133100.000000  19926.000000   6.000000  500.000000\n",
      "max    250000.000000  48000.000000  27.000000  535.000000\n"
     ]
    }
   ],
   "source": [
    "# owner second\n",
    "# brand ktm and royal royal_enfield\n",
    "# less km\n",
    "# price more than 1 lakh\n",
    "req=data[data[\"owner\"]==\"Second Owner\"]\n",
    "royal=req[(req[\"brand\"]==\"Royal Enfield\") & (req[\"age\"]>3) & (req[\"price\"]>100000)]\n",
    "ktm=req[(req[\"brand\"]==\"KTM\") & (req[\"age\"]>3) & (req[\"price\"]>100000)]\n",
    "\n",
    "print(royal.count())\n",
    "print(ktm.count())\n",
    "print(ktm.describe())\n",
    "print(royal.describe())\n"
   ]
  }
 ],
 "metadata": {
  "kernelspec": {
   "display_name": "Python 3",
   "language": "python",
   "name": "python3"
  },
  "language_info": {
   "codemirror_mode": {
    "name": "ipython",
    "version": 3
   },
   "file_extension": ".py",
   "mimetype": "text/x-python",
   "name": "python",
   "nbconvert_exporter": "python",
   "pygments_lexer": "ipython3",
   "version": "3.12.1"
  }
 },
 "nbformat": 4,
 "nbformat_minor": 2
}
